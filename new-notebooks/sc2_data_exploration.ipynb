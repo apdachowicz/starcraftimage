{
 "cells": [
  {
   "cell_type": "code",
   "execution_count": 1,
   "id": "e53f8395-998a-4ed0-a4c5-967937f2f0b7",
   "metadata": {
    "tags": []
   },
   "outputs": [],
   "source": [
    "%load_ext lab_black"
   ]
  },
  {
   "cell_type": "code",
   "execution_count": 2,
   "id": "b33b3cae-da65-487b-abe9-c2309530868d",
   "metadata": {
    "tags": []
   },
   "outputs": [],
   "source": [
    "import torch\n",
    "import numpy as np\n",
    "import matplotlib.pyplot as plt\n",
    "import os, sys\n",
    "from pathlib import Path\n",
    "import random"
   ]
  },
  {
   "cell_type": "code",
   "execution_count": 3,
   "id": "6a117573-10fe-4530-a988-4e96d5da61a7",
   "metadata": {
    "tags": []
   },
   "outputs": [],
   "source": [
    "# load starcraftimage\n",
    "\n",
    "sys.path.append(\"..\")\n",
    "\n",
    "from sc2image.dataset import StarCraftImage, StarCraftCIFAR10, StarCraftMNIST\n",
    "\n",
    "from sc2image.utils.unit_type_data import (\n",
    "    TERRAN_NAME_TO_ID,\n",
    "    ZERG_NAME_TO_ID,\n",
    "    PROTOSS_NAME_TO_ID,\n",
    "    NEUTRAL_NAME_TO_ID,\n",
    "    NONNEUTRAL_NAME_TO_ID,\n",
    ")"
   ]
  },
  {
   "cell_type": "markdown",
   "id": "91a643e9-47d1-4efd-ba9a-a1b3fb4c8fee",
   "metadata": {},
   "source": [
    "## Starcraft II Data Exploration\n",
    "\n",
    "This notebook downloads and reads SCII images and metadata, following the logic in [this demo notebook](https://github.com/inouye-lab/starcraftimage/blob/main/dataset-demos/starcraftimage-quickstart.ipynb) from the dataset authors (original repo [here](https://github.com/inouye-lab/starcraftimage/tree/main)).\n",
    "\n",
    "We load the hyperspectral data in this notebook. Per the authors, each data point in this set contains a 384 x 64 x 64 dimensional array, where the first dimension is the number of unit id channels, and the last two dimensions are the (x,y) dimensions of the map. Each of these data points summarizes 255 frames of a game (about 10 seconds of gameplay), where each pixel in the image is the most recent frame in the stack where the corresponding unit crossed the pixel. "
   ]
  },
  {
   "cell_type": "markdown",
   "id": "76bd3032-490d-4bab-8663-a30a7dffd002",
   "metadata": {},
   "source": [
    "#### 1) Describe Image Channels\n",
    "\n",
    "Per the source paper, we expect 170 unit channels for each of the two players and 44 channels for neutral units in loaded hyperspectral image data, for a total of 2 * 170 + 44 = 384 image channels."
   ]
  },
  {
   "cell_type": "code",
   "execution_count": 4,
   "id": "ebdb75da-5804-44fb-b8a2-6dabe2689214",
   "metadata": {
    "tags": []
   },
   "outputs": [
    {
     "name": "stdout",
     "output_type": "stream",
     "text": [
      "Terran:  56\n",
      "Zerg:    70\n",
      "Protoss: 42\n",
      "Total player IDs: 168 (plus 2 additional for no unit or unknown)\n",
      "Total non-neutral IDs: 170\n",
      "Neutral: 44\n"
     ]
    }
   ],
   "source": [
    "print(f\"Terran:  {len(TERRAN_NAME_TO_ID)}\")\n",
    "print(f\"Zerg:    {len(ZERG_NAME_TO_ID)}\")\n",
    "print(f\"Protoss: {len(PROTOSS_NAME_TO_ID)}\")\n",
    "print(\n",
    "    f\"Total player IDs: {len(TERRAN_NAME_TO_ID) + len(ZERG_NAME_TO_ID) + len(PROTOSS_NAME_TO_ID)} (plus 2 additional for no unit or unknown)\"\n",
    ")\n",
    "print(f\"Total non-neutral IDs: {len(NONNEUTRAL_NAME_TO_ID)}\")\n",
    "print(f\"Neutral: {len(NEUTRAL_NAME_TO_ID)}\")"
   ]
  },
  {
   "cell_type": "markdown",
   "id": "98f6ba38-8a12-4ffe-b663-181b7b7841c3",
   "metadata": {},
   "source": [
    "Non-neutral (player unit) IDs are ordered:\n",
    "- missing / unknown data [0,1] (2 channels)\n",
    "- Terran [2, 57] (56 channels)\n",
    "- Protoss [58, 99] (42 channels)\n",
    "- Zerg [100, 169] (70 channels)"
   ]
  },
  {
   "cell_type": "code",
   "execution_count": 5,
   "id": "a56b6985-571e-40a6-9bcc-8ce8366c505f",
   "metadata": {
    "tags": []
   },
   "outputs": [
    {
     "data": {
      "text/plain": [
       "{'(No Unit)': -1,\n",
       " '(Unknown)': 5000,\n",
       " 'TERRAN_ARMORY': 29,\n",
       " 'TERRAN_AUTOTURRET': 31,\n",
       " 'TERRAN_BANSHEE': 55,\n",
       " 'TERRAN_BARRACKS': 21,\n",
       " 'TERRAN_BARRACKSFLYING': 46,\n",
       " 'TERRAN_BARRACKSREACTOR': 38,\n",
       " 'TERRAN_BARRACKSTECHLAB': 37,\n",
       " 'TERRAN_BATTLECRUISER': 57,\n",
       " 'TERRAN_BUNKER': 24,\n",
       " 'TERRAN_COMMANDCENTER': 18,\n",
       " 'TERRAN_COMMANDCENTERFLYING': 36,\n",
       " 'TERRAN_CYCLONE': 692,\n",
       " 'TERRAN_ENGINEERINGBAY': 22,\n",
       " 'TERRAN_FACTORY': 27,\n",
       " 'TERRAN_FACTORYFLYING': 43,\n",
       " 'TERRAN_FACTORYREACTOR': 40,\n",
       " 'TERRAN_FACTORYTECHLAB': 39,\n",
       " 'TERRAN_FUSIONCORE': 30,\n",
       " 'TERRAN_GHOST': 50,\n",
       " 'TERRAN_GHOSTACADEMY': 26,\n",
       " 'TERRAN_HELLION': 53,\n",
       " 'TERRAN_HELLIONTANK': 484,\n",
       " 'TERRAN_LIBERATOR': 689,\n",
       " 'TERRAN_LIBERATORAG': 734,\n",
       " 'TERRAN_MARAUDER': 51,\n",
       " 'TERRAN_MARINE': 48,\n",
       " 'TERRAN_MEDIVAC': 54,\n",
       " 'TERRAN_MISSILETURRET': 23,\n",
       " 'TERRAN_MULE': 268,\n",
       " 'TERRAN_ORBITALCOMMAND': 132,\n",
       " 'TERRAN_ORBITALCOMMANDFLYING': 134,\n",
       " 'TERRAN_PLANETARYFORTRESS': 130,\n",
       " 'TERRAN_RAVEN': 56,\n",
       " 'TERRAN_REAPER': 49,\n",
       " 'TERRAN_REFINERY': 20,\n",
       " 'TERRAN_SCV': 45,\n",
       " 'TERRAN_SENSORTOWER': 25,\n",
       " 'TERRAN_SIEGETANK': 33,\n",
       " 'TERRAN_SIEGETANKSIEGED': 32,\n",
       " 'TERRAN_STARPORT': 28,\n",
       " 'TERRAN_STARPORTFLYING': 44,\n",
       " 'TERRAN_STARPORTREACTOR': 42,\n",
       " 'TERRAN_STARPORTTECHLAB': 41,\n",
       " 'TERRAN_SUPPLYDEPOT': 19,\n",
       " 'TERRAN_SUPPLYDEPOTLOWERED': 47,\n",
       " 'TERRAN_THOR': 52,\n",
       " 'TERRAN_THORAP': 691,\n",
       " 'TERRAN_VIKINGASSAULT': 34,\n",
       " 'TERRAN_VIKINGFIGHTER': 35,\n",
       " 'TERRAN_WIDOWMINE': 498,\n",
       " 'TERRAN_WIDOWMINEBURROWED': 500,\n",
       " 'TERRAN_KD8CHARGE': 830,\n",
       " 'TERRAN_NUKE': 58,\n",
       " 'TERRAN_POINTDEFENSEDRONE': 11,\n",
       " 'TERRAN_REACTOR': 6,\n",
       " 'TERRAN_TECHLAB': 5,\n",
       " 'PROTOSS_ADEPT': 311,\n",
       " 'PROTOSS_ADEPTPHASESHIFT': 801,\n",
       " 'PROTOSS_ARCHON': 141,\n",
       " 'PROTOSS_ASSIMILATOR': 61,\n",
       " 'PROTOSS_CARRIER': 79,\n",
       " 'PROTOSS_COLOSSUS': 4,\n",
       " 'PROTOSS_CYBERNETICSCORE': 72,\n",
       " 'PROTOSS_DARKSHRINE': 69,\n",
       " 'PROTOSS_DARKTEMPLAR': 76,\n",
       " 'PROTOSS_DISRUPTOR': 694,\n",
       " 'PROTOSS_DISRUPTORPHASED': 733,\n",
       " 'PROTOSS_FLEETBEACON': 64,\n",
       " 'PROTOSS_FORGE': 63,\n",
       " 'PROTOSS_GATEWAY': 62,\n",
       " 'PROTOSS_HIGHTEMPLAR': 75,\n",
       " 'PROTOSS_IMMORTAL': 83,\n",
       " 'PROTOSS_INTERCEPTOR': 85,\n",
       " 'PROTOSS_MOTHERSHIP': 10,\n",
       " 'PROTOSS_MOTHERSHIPCORE': 488,\n",
       " 'PROTOSS_NEXUS': 59,\n",
       " 'PROTOSS_OBSERVER': 82,\n",
       " 'PROTOSS_ORACLE': 495,\n",
       " 'PROTOSS_ORACLESTASISTRAP': 732,\n",
       " 'PROTOSS_PHOENIX': 78,\n",
       " 'PROTOSS_PHOTONCANNON': 66,\n",
       " 'PROTOSS_PROBE': 84,\n",
       " 'PROTOSS_PYLON': 60,\n",
       " 'PROTOSS_PYLONOVERCHARGED': 894,\n",
       " 'PROTOSS_ROBOTICSBAY': 70,\n",
       " 'PROTOSS_ROBOTICSFACILITY': 71,\n",
       " 'PROTOSS_SENTRY': 77,\n",
       " 'PROTOSS_SHIELDBATTERY': 1910,\n",
       " 'PROTOSS_STALKER': 74,\n",
       " 'PROTOSS_STARGATE': 67,\n",
       " 'PROTOSS_TEMPEST': 496,\n",
       " 'PROTOSS_TEMPLARARCHIVE': 68,\n",
       " 'PROTOSS_TWILIGHTCOUNCIL': 65,\n",
       " 'PROTOSS_VOIDRAY': 80,\n",
       " 'PROTOSS_WARPGATE': 133,\n",
       " 'PROTOSS_WARPPRISM': 81,\n",
       " 'PROTOSS_WARPPRISMPHASING': 136,\n",
       " 'PROTOSS_ZEALOT': 73,\n",
       " 'ZERG_BANELING': 9,\n",
       " 'ZERG_BANELINGBURROWED': 115,\n",
       " 'ZERG_BANELINGCOCOON': 8,\n",
       " 'ZERG_BANELINGNEST': 96,\n",
       " 'ZERG_BROODLING': 289,\n",
       " 'ZERG_BROODLORD': 114,\n",
       " 'ZERG_BROODLORDCOCOON': 113,\n",
       " 'ZERG_CHANGELING': 12,\n",
       " 'ZERG_CHANGELINGMARINE': 15,\n",
       " 'ZERG_CHANGELINGMARINESHIELD': 14,\n",
       " 'ZERG_CHANGELINGZEALOT': 13,\n",
       " 'ZERG_CHANGELINGZERGLING': 17,\n",
       " 'ZERG_CHANGELINGZERGLINGWINGS': 16,\n",
       " 'ZERG_CORRUPTOR': 112,\n",
       " 'ZERG_CREEPTUMOR': 87,\n",
       " 'ZERG_CREEPTUMORBURROWED': 137,\n",
       " 'ZERG_CREEPTUMORQUEEN': 138,\n",
       " 'ZERG_DRONE': 104,\n",
       " 'ZERG_DRONEBURROWED': 116,\n",
       " 'ZERG_EGG': 103,\n",
       " 'ZERG_EVOLUTIONCHAMBER': 90,\n",
       " 'ZERG_EXTRACTOR': 88,\n",
       " 'ZERG_GREATERSPIRE': 102,\n",
       " 'ZERG_HATCHERY': 86,\n",
       " 'ZERG_HIVE': 101,\n",
       " 'ZERG_HYDRALISK': 107,\n",
       " 'ZERG_HYDRALISKBURROWED': 117,\n",
       " 'ZERG_HYDRALISKDEN': 91,\n",
       " 'ZERG_INFESTATIONPIT': 94,\n",
       " 'ZERG_INFESTEDTERRANSEGG': 150,\n",
       " 'ZERG_INFESTOR': 111,\n",
       " 'ZERG_INFESTORBURROWED': 127,\n",
       " 'ZERG_INFESTORTERRAN': 7,\n",
       " 'ZERG_LAIR': 100,\n",
       " 'ZERG_LARVA': 151,\n",
       " 'ZERG_LOCUSTMP': 489,\n",
       " 'ZERG_LOCUSTMPFLYING': 693,\n",
       " 'ZERG_LURKERDENMP': 504,\n",
       " 'ZERG_LURKERMP': 502,\n",
       " 'ZERG_LURKERMPBURROWED': 503,\n",
       " 'ZERG_LURKERMPEGG': 501,\n",
       " 'ZERG_MUTALISK': 108,\n",
       " 'ZERG_NYDUSCANAL': 142,\n",
       " 'ZERG_NYDUSNETWORK': 95,\n",
       " 'ZERG_OVERLORD': 106,\n",
       " 'ZERG_OVERLORDCOCOON': 128,\n",
       " 'ZERG_OVERLORDTRANSPORT': 893,\n",
       " 'ZERG_OVERSEER': 129,\n",
       " 'ZERG_QUEEN': 126,\n",
       " 'ZERG_QUEENBURROWED': 125,\n",
       " 'ZERG_RAVAGER': 688,\n",
       " 'ZERG_RAVAGERCOCOON': 687,\n",
       " 'ZERG_ROACH': 110,\n",
       " 'ZERG_ROACHBURROWED': 118,\n",
       " 'ZERG_ROACHWARREN': 97,\n",
       " 'ZERG_SPAWNINGPOOL': 89,\n",
       " 'ZERG_SPINECRAWLER': 98,\n",
       " 'ZERG_SPINECRAWLERUPROOTED': 139,\n",
       " 'ZERG_SPIRE': 92,\n",
       " 'ZERG_SPORECRAWLER': 99,\n",
       " 'ZERG_SPORECRAWLERUPROOTED': 140,\n",
       " 'ZERG_SWARMHOSTBURROWEDMP': 493,\n",
       " 'ZERG_SWARMHOSTMP': 494,\n",
       " 'ZERG_TRANSPORTOVERLORDCOCOON': 892,\n",
       " 'ZERG_ULTRALISK': 109,\n",
       " 'ZERG_ULTRALISKCAVERN': 93,\n",
       " 'ZERG_VIPER': 499,\n",
       " 'ZERG_ZERGLING': 105,\n",
       " 'ZERG_ZERGLINGBURROWED': 119,\n",
       " 'ZERG_PARASITICBOMBDUMMY': 824}"
      ]
     },
     "execution_count": 5,
     "metadata": {},
     "output_type": "execute_result"
    }
   ],
   "source": [
    "NONNEUTRAL_NAME_TO_ID"
   ]
  },
  {
   "cell_type": "markdown",
   "id": "a62c66af-9ebf-44a0-a5bf-a49827a024ed",
   "metadata": {},
   "source": [
    "#### 2) Load Data\n",
    "\n",
    "Get train and test data:"
   ]
  },
  {
   "cell_type": "code",
   "execution_count": 6,
   "id": "4469b630-3f76-4354-bde3-7c1a077ed551",
   "metadata": {},
   "outputs": [],
   "source": [
    "train_data_dir = Path(\"..\") / \"data_train\"\n",
    "\n",
    "test_data_dir = Path(\"..\") / \"data_test\"\n",
    "\n",
    "for p in [train_data_dir, test_data_dir]:\n",
    "    if not os.path.exists(p):\n",
    "        os.makedirs(p)"
   ]
  },
  {
   "cell_type": "code",
   "execution_count": 7,
   "id": "4608466e-7bf2-4dc3-9866-2917c1988ae1",
   "metadata": {},
   "outputs": [],
   "source": [
    "# generic args for the data download\n",
    "image_format = \"dense-hyperspectral\"\n",
    "label_kind = \"14-class\"\n",
    "return_label = True\n",
    "return_dict = True"
   ]
  },
  {
   "cell_type": "code",
   "execution_count": 8,
   "id": "60137b33-23e0-442e-9e02-8a91054d9b19",
   "metadata": {
    "tags": []
   },
   "outputs": [
    {
     "name": "stdout",
     "output_type": "stream",
     "text": [
      "Downloading to: ..\\data_train\n",
      "Dataset found in  ..\\data_train\\starcraft-image-dataset_v1_0\n",
      "Loading cached metadata found at  ..\\data_train\\starcraft-image-dataset_v1_0\\cached-metadata.pkl\n"
     ]
    }
   ],
   "source": [
    "# download the training data, or load it from disk if already downloaded\n",
    "\n",
    "print(f\"Downloading to: {train_data_dir}\")\n",
    "\n",
    "train_scimage = StarCraftImage(\n",
    "    train_data_dir,\n",
    "    image_format=image_format,\n",
    "    label_kind=label_kind,\n",
    "    return_label=return_label,\n",
    "    return_dict=return_dict,\n",
    "    train=True,\n",
    "    download=True,\n",
    "    use_metadata_cache=True,\n",
    "    verbose=True,\n",
    ")"
   ]
  },
  {
   "cell_type": "markdown",
   "id": "799b4d32-f8e1-44b6-8da6-8fa33be07bfd",
   "metadata": {},
   "source": [
    "#### 3) Describe Data Format\n",
    "\n",
    "Each data point is a length-3 tuple:"
   ]
  },
  {
   "cell_type": "code",
   "execution_count": 9,
   "id": "0023b14f-71ca-4a1e-9f72-0d8302c6dc03",
   "metadata": {
    "tags": []
   },
   "outputs": [
    {
     "data": {
      "text/plain": [
       "3"
      ]
     },
     "execution_count": 9,
     "metadata": {},
     "output_type": "execute_result"
    }
   ],
   "source": [
    "len(train_scimage[0])"
   ]
  },
  {
   "cell_type": "markdown",
   "id": "6e8f0544-6dc9-41b8-b226-3ccaabaf121c",
   "metadata": {},
   "source": [
    "The first element is the 384 x 64 x 64 torch tensor:"
   ]
  },
  {
   "cell_type": "code",
   "execution_count": 10,
   "id": "eec53897-b6e6-407d-ae8b-e8c8e859492c",
   "metadata": {
    "tags": []
   },
   "outputs": [
    {
     "data": {
      "text/plain": [
       "torch.Size([384, 64, 64])"
      ]
     },
     "execution_count": 10,
     "metadata": {},
     "output_type": "execute_result"
    }
   ],
   "source": [
    "train_scimage[0][0].shape"
   ]
  },
  {
   "cell_type": "markdown",
   "id": "802e5132-a71e-4333-a28c-387f731ae15e",
   "metadata": {},
   "source": [
    "The second element is the data label, encoding the map and whether the data comes from the first or second half of the game:"
   ]
  },
  {
   "cell_type": "code",
   "execution_count": 11,
   "id": "92cea371-3b5d-43f1-bfcd-4989da59b188",
   "metadata": {
    "tags": []
   },
   "outputs": [
    {
     "name": "stdout",
     "output_type": "stream",
     "text": [
      "0\n",
      "0 ::: Acolyte LE 0.5965 ||| Zerg Zerg 1\n",
      "0 ::: Acolyte LE 0.7079 ||| Protoss Protoss 2\n",
      "0 ::: Acolyte LE 0.6606 ||| Zerg Protoss 1\n",
      "\n",
      "1\n",
      "1 ::: Acolyte LE 0.2 ||| Protoss Terran 2\n",
      "1 ::: Acolyte LE 0.4074 ||| Terran Terran 1\n",
      "1 ::: Acolyte LE 0.2817 ||| Terran Terran 1\n",
      "\n",
      "2\n",
      "2 ::: Abyssal Reef LE 0.7917 ||| Terran Terran 2\n",
      "2 ::: Abyssal Reef LE 0.6933 ||| Terran Terran 1\n",
      "2 ::: Abyssal Reef LE 0.7193 ||| Terran Terran 1\n",
      "\n",
      "3\n",
      "3 ::: Abyssal Reef LE 0.0769 ||| Zerg Terran 2\n",
      "3 ::: Abyssal Reef LE 0.1277 ||| Terran Zerg 1\n",
      "3 ::: Abyssal Reef LE 0.4211 ||| Zerg Terran 1\n",
      "\n",
      "4\n",
      "4 ::: Ascension to Aiur LE 0.8929 ||| Protoss Zerg 2\n",
      "4 ::: Ascension to Aiur LE 0.5342 ||| Protoss Terran 2\n",
      "4 ::: Ascension to Aiur LE 0.6585 ||| Zerg Zerg 2\n",
      "\n",
      "5\n",
      "5 ::: Ascension to Aiur LE 0.0149 ||| Protoss Zerg 2\n",
      "5 ::: Ascension to Aiur LE 0.4128 ||| Zerg Protoss 1\n",
      "5 ::: Ascension to Aiur LE 0.3636 ||| Protoss Terran 1\n",
      "\n",
      "6\n",
      "6 ::: Mech Depot LE 0.7576 ||| Terran Terran 1\n",
      "6 ::: Mech Depot LE 0.8113 ||| Zerg Terran 1\n",
      "6 ::: Mech Depot LE 0.5522 ||| Protoss Terran 1\n",
      "\n",
      "7\n",
      "7 ::: Mech Depot LE 0.2353 ||| Protoss Zerg 2\n",
      "7 ::: Mech Depot LE 0.0314 ||| Terran Zerg 2\n",
      "7 ::: Mech Depot LE 0.2368 ||| Protoss Protoss 1\n",
      "\n",
      "8\n",
      "8 ::: Odyssey LE 0.8714 ||| Zerg Protoss 2\n",
      "8 ::: Odyssey LE 0.6447 ||| Zerg Protoss 2\n",
      "8 ::: Odyssey LE 0.9216 ||| Terran Terran 2\n",
      "\n",
      "9\n",
      "9 ::: Odyssey LE 0.0615 ||| Zerg Zerg 1\n",
      "9 ::: Odyssey LE 0.3692 ||| Zerg Terran 1\n",
      "9 ::: Odyssey LE 0.1818 ||| Terran Terran 1\n",
      "\n",
      "10\n",
      "10 ::: Interloper LE 0.7209 ||| Zerg Protoss 2\n",
      "10 ::: Interloper LE 0.7639 ||| Terran Protoss 2\n",
      "10 ::: Interloper LE 0.6615 ||| Terran Zerg 1\n",
      "\n",
      "11\n",
      "11 ::: Interloper LE 0.1778 ||| Zerg Protoss 2\n",
      "11 ::: Interloper LE 0.0619 ||| Zerg Terran 1\n",
      "11 ::: Interloper LE 0.3077 ||| Terran Zerg 1\n",
      "\n",
      "12\n",
      "12 ::: Catallena LE (Void) 0.619 ||| Terran Zerg 1\n",
      "12 ::: Catallena LE (Void) 0.8286 ||| Zerg Zerg 2\n",
      "12 ::: Catallena LE (Void) 0.6237 ||| Zerg Protoss 1\n",
      "\n",
      "13\n",
      "13 ::: Catallena LE (Void) 0.1481 ||| Zerg Zerg 2\n",
      "13 ::: Catallena LE (Void) 0.493 ||| Protoss Terran 2\n",
      "13 ::: Catallena LE (Void) 0.0 ||| Protoss Protoss 1\n",
      "\n"
     ]
    }
   ],
   "source": [
    "for label in [0, 1, 2, 3, 4, 5, 6, 7, 8, 9, 10, 11, 12, 13]:\n",
    "    print(label)\n",
    "    sample_count = 0\n",
    "\n",
    "    for i in range(500):\n",
    "        if train_scimage[i][1] == label:\n",
    "            print(\n",
    "                train_scimage[i][2][\"metadata\"][\"target_id\"],\n",
    "                \":::\",\n",
    "                train_scimage[i][2][\"metadata\"][\"map_name\"],\n",
    "                np.round(\n",
    "                    train_scimage[i][2][\"metadata\"][\"window_idx\"]\n",
    "                    / train_scimage[i][2][\"metadata\"][\"num_windows\"],\n",
    "                    4,\n",
    "                ),\n",
    "                \"|||\",\n",
    "                train_scimage[i][2][\"metadata\"][\"player_1_race\"],\n",
    "                train_scimage[i][2][\"metadata\"][\"player_2_race\"],\n",
    "                train_scimage[i][2][\"metadata\"][\"winning_player_id\"],\n",
    "            )\n",
    "\n",
    "            sample_count += 1\n",
    "\n",
    "        if sample_count >= 3:\n",
    "            break\n",
    "\n",
    "    print()"
   ]
  },
  {
   "cell_type": "markdown",
   "id": "a013776a-f646-4fb3-af1b-f2348cb757a1",
   "metadata": {},
   "source": [
    "The third element is the metadata, and this also includes useful tabular information:"
   ]
  },
  {
   "cell_type": "code",
   "execution_count": 12,
   "id": "7fd693e7-160f-4ecc-a056-75c4f4ed5046",
   "metadata": {
    "tags": []
   },
   "outputs": [
    {
     "data": {
      "text/plain": [
       "{'player_1_is_visible': tensor([[False, False, False,  ..., False, False, False],\n",
       "         [False, False, False,  ..., False, False, False],\n",
       "         [False, False, False,  ..., False, False, False],\n",
       "         ...,\n",
       "         [False, False,  True,  ..., False, False, False],\n",
       "         [False, False, False,  ..., False, False, False],\n",
       "         [False, False, False,  ..., False, False, False]]),\n",
       " 'player_1_is_seen': tensor([[False, False, False,  ..., False, False, False],\n",
       "         [False, False, False,  ..., False, False, False],\n",
       "         [False, False, False,  ..., False, False, False],\n",
       "         ...,\n",
       "         [False,  True,  True,  ..., False, False, False],\n",
       "         [False, False,  True,  ..., False, False, False],\n",
       "         [False, False, False,  ..., False, False, False]]),\n",
       " 'player_1_creep': tensor([[0, 0, 0,  ..., 0, 0, 0],\n",
       "         [0, 0, 0,  ..., 0, 0, 0],\n",
       "         [0, 0, 0,  ..., 0, 0, 0],\n",
       "         ...,\n",
       "         [0, 0, 0,  ..., 0, 0, 0],\n",
       "         [0, 0, 0,  ..., 0, 0, 0],\n",
       "         [0, 0, 0,  ..., 0, 0, 0]], dtype=torch.uint8),\n",
       " 'player_2_is_visible': tensor([[False, False, False,  ..., False, False, False],\n",
       "         [False, False, False,  ..., False, False, False],\n",
       "         [False, False, False,  ..., False, False, False],\n",
       "         ...,\n",
       "         [False, False, False,  ..., False, False, False],\n",
       "         [False, False, False,  ..., False, False, False],\n",
       "         [False, False, False,  ..., False, False, False]]),\n",
       " 'player_2_is_seen': tensor([[False, False, False,  ..., False, False, False],\n",
       "         [False, False, False,  ..., False, False, False],\n",
       "         [False, False, False,  ..., False, False, False],\n",
       "         ...,\n",
       "         [False, False, False,  ..., False, False, False],\n",
       "         [False, False, False,  ..., False, False, False],\n",
       "         [False, False, False,  ..., False, False, False]]),\n",
       " 'player_2_creep': tensor([[0, 0, 0,  ..., 0, 0, 0],\n",
       "         [0, 0, 0,  ..., 0, 0, 0],\n",
       "         [0, 0, 0,  ..., 0, 0, 0],\n",
       "         ...,\n",
       "         [0, 0, 0,  ..., 0, 0, 0],\n",
       "         [0, 0, 0,  ..., 0, 0, 0],\n",
       "         [0, 0, 0,  ..., 0, 0, 0]], dtype=torch.uint8),\n",
       " 'pathing_grid': tensor([[False, False, False,  ..., False, False, False],\n",
       "         [False, False, False,  ..., False, False, False],\n",
       "         [False, False, False,  ..., False, False, False],\n",
       "         ...,\n",
       "         [False, False, False,  ..., False, False, False],\n",
       "         [False, False, False,  ..., False, False, False],\n",
       "         [False, False, False,  ..., False, False, False]]),\n",
       " 'placement_grid': tensor([[False, False, False,  ..., False, False, False],\n",
       "         [False, False, False,  ..., False, False, False],\n",
       "         [False, False, False,  ..., False, False, False],\n",
       "         ...,\n",
       "         [False, False, False,  ..., False, False, False],\n",
       "         [False, False, False,  ..., False, False, False],\n",
       "         [False, False, False,  ..., False, False, False]]),\n",
       " 'terrain_height': tensor([[127, 127, 127,  ..., 127, 127, 127],\n",
       "         [127, 127, 127,  ..., 127, 127, 127],\n",
       "         [127, 127, 133,  ..., 127, 127, 127],\n",
       "         ...,\n",
       "         [138, 138, 140,  ..., 127, 127, 127],\n",
       "         [138, 138, 138,  ..., 127, 127, 127],\n",
       "         [138, 138, 133,  ..., 127, 127, 127]], dtype=torch.uint8),\n",
       " 'player_1_tabular': tensor([45,  0, 15, 15,  0, 14,  0,  0,  0,  0]),\n",
       " 'player_2_tabular': tensor([100,   0,  14,  14,   0,  14,   0,   0,   0,   2]),\n",
       " 'metadata': {'num_windows': 67,\n",
       "  'window_idx': 1,\n",
       "  'map_name': 'Ascension to Aiur LE',\n",
       "  'player_1_race': 'Protoss',\n",
       "  'player_2_race': 'Zerg',\n",
       "  'game_duration_seconds': 765.8123779296875,\n",
       "  'player_1_apm': 228,\n",
       "  'player_1_mmr': 5597,\n",
       "  'winning_player_id': 2,\n",
       "  'player_2_apm': 277,\n",
       "  'player_2_mmr': 5518,\n",
       "  'replay_name': 'a8d0bfbb370650d351334f9d253655a28b670082f2b908bd22b19bb880306329',\n",
       "  'global_idx': 3050830,\n",
       "  'player_1_minerals': 45,\n",
       "  'player_1_vespene': 0,\n",
       "  'player_1_food_used': 15,\n",
       "  'player_1_food_cap': 15,\n",
       "  'player_1_food_army': 0,\n",
       "  'player_1_food_workers': 14,\n",
       "  'player_1_idle_worker_count': 0,\n",
       "  'player_1_army_count': 0,\n",
       "  'player_1_warp_gate_count': 0,\n",
       "  'player_1_larva_count': 0,\n",
       "  'player_2_minerals': 100,\n",
       "  'player_2_vespene': 0,\n",
       "  'player_2_food_used': 14,\n",
       "  'player_2_food_cap': 14,\n",
       "  'player_2_food_army': 0,\n",
       "  'player_2_food_workers': 14,\n",
       "  'player_2_idle_worker_count': 0,\n",
       "  'player_2_army_count': 0,\n",
       "  'player_2_warp_gate_count': 0,\n",
       "  'player_2_larva_count': 2,\n",
       "  'target_id': 5,\n",
       "  '10_class_data_split': 'train',\n",
       "  '14_class_data_split': 'train'}}"
      ]
     },
     "execution_count": 12,
     "metadata": {},
     "output_type": "execute_result"
    }
   ],
   "source": [
    "train_scimage[0][2]"
   ]
  },
  {
   "cell_type": "markdown",
   "id": "20036c60-7459-4ccc-a799-56992b07b1d7",
   "metadata": {},
   "source": [
    "##### Quick Data Check\n",
    "\n",
    "I was running into an issue where for about 40% of data points, starcraftimage threw an index error when getting the metadata dictionary. I think this was due to missing creep data when neither player is Zerg. I updated `starcraftimage` to return `None` for creep data if this error occurs, and this seems to fix the issue. I will add this fix as a new pull request. "
   ]
  },
  {
   "cell_type": "code",
   "execution_count": 13,
   "id": "ac45f70a-b46f-46d5-9304-fedeef94388a",
   "metadata": {
    "tags": []
   },
   "outputs": [
    {
     "name": "stdout",
     "output_type": "stream",
     "text": [
      "Indices with IndexError: 0, 0.0% of 1000 samples\n"
     ]
    }
   ],
   "source": [
    "bad_indices = []\n",
    "num_samples = 1000\n",
    "\n",
    "for i in range(num_samples):\n",
    "    try:\n",
    "        train_scimage[i]\n",
    "    except IndexError:\n",
    "        bad_indices.append(i)\n",
    "\n",
    "print(\n",
    "    f\"Indices with IndexError: {len(bad_indices)}, {np.round(len(bad_indices)*100 / num_samples, 3)}% of {num_samples} samples\"\n",
    ")"
   ]
  },
  {
   "cell_type": "markdown",
   "id": "3097afcb-e32d-408c-9e37-ff617c142e4b",
   "metadata": {},
   "source": [
    "#### 4) Check Data\n",
    "\n",
    "First, let's check to make sure we observe the expected unit types for each player, given their race.\n",
    "\n",
    "It looks like the units are ordered protoss, then terran, then zerg in the hyperspectral data:"
   ]
  },
  {
   "cell_type": "code",
   "execution_count": 14,
   "id": "4d60e65f-aef3-4b5f-9552-6512c091aa4f",
   "metadata": {
    "tags": []
   },
   "outputs": [],
   "source": [
    "# switch order of protoss and terran units to match to expected?\n",
    "\n",
    "protoss_names = [x for x in list(NONNEUTRAL_NAME_TO_ID.keys()) if \"PROTOSS_\" in x]\n",
    "terran_names = [x for x in list(NONNEUTRAL_NAME_TO_ID.keys()) if \"TERRAN_\" in x]\n",
    "zerg_names = [x for x in list(NONNEUTRAL_NAME_TO_ID.keys()) if \"ZERG_\" in x]\n",
    "\n",
    "NONNEUTRAL_NAME_TO_ID_CORR = (\n",
    "    list(NONNEUTRAL_NAME_TO_ID.keys())[:2] + protoss_names + terran_names + zerg_names\n",
    ")\n",
    "\n",
    "# get neutral units too\n",
    "NEUTRAL_NAME_TO_ID_CORR = list(NEUTRAL_NAME_TO_ID.keys())"
   ]
  },
  {
   "cell_type": "code",
   "execution_count": 15,
   "id": "a3b0aa3e-ecd2-433c-8430-9fb178484945",
   "metadata": {
    "tags": []
   },
   "outputs": [
    {
     "name": "stdout",
     "output_type": "stream",
     "text": [
      "\n",
      "%%%%%%%%%%%%%%%%%%%%%%%%%%%%%%%%%%%%%%%%%%%%%%%%%%%%%%%%%%%\n",
      "Ascension to Aiur LE\n",
      "P1: Terran\n",
      "P2: Terran\n",
      "Winner: 2\n",
      "Window 28 of 67\n",
      "\n",
      "PLAYER 1 UNITS\n",
      "47 TERRAN_BARRACKS\n",
      "49 TERRAN_BARRACKSREACTOR\n",
      "50 TERRAN_BARRACKSTECHLAB\n",
      "56 TERRAN_ENGINEERINGBAY\n",
      "57 TERRAN_FACTORY\n",
      "60 TERRAN_FACTORYTECHLAB\n",
      "70 TERRAN_MEDIVAC\n",
      "71 TERRAN_MISSILETURRET\n",
      "72 TERRAN_MULE\n",
      "73 TERRAN_ORBITALCOMMAND\n",
      "75 TERRAN_PLANETARYFORTRESS\n",
      "82 TERRAN_SIEGETANKSIEGED\n",
      "83 TERRAN_STARPORT\n",
      "85 TERRAN_STARPORTREACTOR\n",
      "86 TERRAN_STARPORTTECHLAB\n",
      "87 TERRAN_SUPPLYDEPOT\n",
      "89 TERRAN_THOR\n",
      "91 TERRAN_VIKINGASSAULT\n",
      "92 TERRAN_VIKINGFIGHTER\n",
      "\n",
      "PLAYER 2 UNITS\n",
      "47 TERRAN_BARRACKS\n",
      "49 TERRAN_BARRACKSREACTOR\n",
      "50 TERRAN_BARRACKSTECHLAB\n",
      "52 TERRAN_BUNKER\n",
      "55 TERRAN_CYCLONE\n",
      "57 TERRAN_FACTORY\n",
      "60 TERRAN_FACTORYTECHLAB\n",
      "70 TERRAN_MEDIVAC\n",
      "73 TERRAN_ORBITALCOMMAND\n",
      "75 TERRAN_PLANETARYFORTRESS\n",
      "81 TERRAN_SIEGETANK\n",
      "82 TERRAN_SIEGETANKSIEGED\n",
      "83 TERRAN_STARPORT\n",
      "87 TERRAN_SUPPLYDEPOT\n",
      "89 TERRAN_THOR\n",
      "91 TERRAN_VIKINGASSAULT\n",
      "92 TERRAN_VIKINGFIGHTER\n",
      "\n",
      "NEUTRAL UNITS\n",
      "1 (Unknown)\n",
      "\n",
      "%%%%%%%%%%%%%%%%%%%%%%%%%%%%%%%%%%%%%%%%%%%%%%%%%%%%%%%%%%%\n",
      "Mech Depot LE\n",
      "P1: Terran\n",
      "P2: Zerg\n",
      "Winner: 2\n",
      "Window 20 of 56\n",
      "\n",
      "PLAYER 1 UNITS\n",
      "44 TERRAN_ARMORY\n",
      "47 TERRAN_BARRACKS\n",
      "57 TERRAN_FACTORY\n",
      "59 TERRAN_FACTORYREACTOR\n",
      "64 TERRAN_HELLION\n",
      "70 TERRAN_MEDIVAC\n",
      "73 TERRAN_ORBITALCOMMAND\n",
      "75 TERRAN_PLANETARYFORTRESS\n",
      "82 TERRAN_SIEGETANKSIEGED\n",
      "83 TERRAN_STARPORT\n",
      "91 TERRAN_VIKINGASSAULT\n",
      "92 TERRAN_VIKINGFIGHTER\n",
      "\n",
      "PLAYER 2 UNITS\n",
      "114 ZERG_CREEPTUMOR\n",
      "115 ZERG_CREEPTUMORBURROWED\n",
      "116 ZERG_CREEPTUMORQUEEN\n",
      "117 ZERG_DRONE\n",
      "119 ZERG_EGG\n",
      "121 ZERG_EXTRACTOR\n",
      "123 ZERG_HATCHERY\n",
      "133 ZERG_LAIR\n",
      "134 ZERG_LARVA\n",
      "144 ZERG_OVERLORD\n",
      "149 ZERG_QUEENBURROWED\n",
      "156 ZERG_SPINECRAWLER\n",
      "168 ZERG_ZERGLINGBURROWED\n",
      "\n",
      "NEUTRAL UNITS\n",
      "1 (Unknown)\n",
      "\n",
      "%%%%%%%%%%%%%%%%%%%%%%%%%%%%%%%%%%%%%%%%%%%%%%%%%%%%%%%%%%%\n",
      "Odyssey LE\n",
      "P1: Protoss\n",
      "P2: Zerg\n",
      "Winner: 1\n",
      "Window 66 of 113\n",
      "\n",
      "PLAYER 1 UNITS\n",
      "2 PROTOSS_ADEPT\n",
      "4 PROTOSS_ARCHON\n",
      "5 PROTOSS_ASSIMILATOR\n",
      "8 PROTOSS_CYBERNETICSCORE\n",
      "9 PROTOSS_DARKSHRINE\n",
      "10 PROTOSS_DARKTEMPLAR\n",
      "14 PROTOSS_FORGE\n",
      "17 PROTOSS_IMMORTAL\n",
      "20 PROTOSS_MOTHERSHIPCORE\n",
      "21 PROTOSS_NEXUS\n",
      "22 PROTOSS_OBSERVER\n",
      "26 PROTOSS_PHOTONCANNON\n",
      "27 PROTOSS_PROBE\n",
      "28 PROTOSS_PYLON\n",
      "31 PROTOSS_ROBOTICSFACILITY\n",
      "32 PROTOSS_SENTRY\n",
      "34 PROTOSS_STALKER\n",
      "35 PROTOSS_STARGATE\n",
      "37 PROTOSS_TEMPLARARCHIVE\n",
      "38 PROTOSS_TWILIGHTCOUNCIL\n",
      "40 PROTOSS_WARPGATE\n",
      "41 PROTOSS_WARPPRISM\n",
      "43 PROTOSS_ZEALOT\n",
      "\n",
      "PLAYER 2 UNITS\n",
      "115 ZERG_CREEPTUMORBURROWED\n",
      "117 ZERG_DRONE\n",
      "119 ZERG_EGG\n",
      "120 ZERG_EVOLUTIONCHAMBER\n",
      "121 ZERG_EXTRACTOR\n",
      "123 ZERG_HATCHERY\n",
      "125 ZERG_HYDRALISK\n",
      "133 ZERG_LAIR\n",
      "134 ZERG_LARVA\n",
      "137 ZERG_LURKERDENMP\n",
      "138 ZERG_LURKERMP\n",
      "139 ZERG_LURKERMPBURROWED\n",
      "140 ZERG_LURKERMPEGG\n",
      "144 ZERG_OVERLORD\n",
      "145 ZERG_OVERLORDCOCOON\n",
      "147 ZERG_OVERSEER\n",
      "149 ZERG_QUEENBURROWED\n",
      "153 ZERG_ROACHBURROWED\n",
      "155 ZERG_SPAWNINGPOOL\n",
      "156 ZERG_SPINECRAWLER\n",
      "160 ZERG_SPORECRAWLERUPROOTED\n",
      "168 ZERG_ZERGLINGBURROWED\n",
      "\n",
      "NEUTRAL UNITS\n",
      "1 (Unknown)\n"
     ]
    }
   ],
   "source": [
    "# make sure that we get unit data for the expected units only\n",
    "\n",
    "for data_sample in random.sample(np.arange(50000).tolist(), 3):\n",
    "    print(\"\\n%%%%%%%%%%%%%%%%%%%%%%%%%%%%%%%%%%%%%%%%%%%%%%%%%%%%%%%%%%%\")\n",
    "    hyp_img = train_scimage[data_sample][0].numpy()\n",
    "\n",
    "    p1_race = train_scimage[data_sample][2][\"metadata\"][\"player_1_race\"]\n",
    "    p2_race = train_scimage[data_sample][2][\"metadata\"][\"player_2_race\"]\n",
    "    window_id = train_scimage[data_sample][2][\"metadata\"][\"window_idx\"]\n",
    "    total_windows = train_scimage[data_sample][2][\"metadata\"][\"num_windows\"]\n",
    "    map_name = train_scimage[data_sample][2][\"metadata\"][\"map_name\"]\n",
    "    winner = train_scimage[data_sample][2][\"metadata\"][\"winning_player_id\"]\n",
    "\n",
    "    print(map_name)\n",
    "    print(f\"P1: {p1_race}\\nP2: {p2_race}\\nWinner: {winner}\")\n",
    "    print(f\"Window {window_id} of {total_windows}\")\n",
    "\n",
    "    # get mask showing if any pixel has a value for each unit type\n",
    "    present_ixs = np.any(hyp_img > 0, axis=(1, 2))\n",
    "\n",
    "    print(\"\\nPLAYER 1 UNITS\")\n",
    "    for i in range(170):\n",
    "        if present_ixs[i]:\n",
    "            print(i, NONNEUTRAL_NAME_TO_ID_CORR[i])\n",
    "\n",
    "    print(\"\\nPLAYER 2 UNITS\")\n",
    "    for i in range(170, 340):\n",
    "        if present_ixs[i]:\n",
    "            print(i - 170, NONNEUTRAL_NAME_TO_ID_CORR[i - 170])\n",
    "\n",
    "    print(\"\\nNEUTRAL UNITS\")\n",
    "    for i in range(340, 344):\n",
    "        if present_ixs[i]:\n",
    "            print(i - 340, NEUTRAL_NAME_TO_ID_CORR[i - 340])\n",
    "\n",
    "    del hyp_img\n",
    "\n",
    "# present_ixs"
   ]
  },
  {
   "cell_type": "markdown",
   "id": "5fad08a0-1f3c-41d1-83d8-f32329b87e0d",
   "metadata": {},
   "source": [
    "The observed units match the expected units from player race metadata. Let's write a quick check to cycle through many examples and assert that we only get the expected unit types for each player:"
   ]
  },
  {
   "cell_type": "code",
   "execution_count": 16,
   "id": "d9beeed5-a8b6-49de-8876-43f3a18b5168",
   "metadata": {
    "tags": []
   },
   "outputs": [
    {
     "name": "stdout",
     "output_type": "stream",
     "text": [
      "Test 1 of 2000\n",
      "Test 501 of 2000\n",
      "Test 1001 of 2000\n",
      "Test 1501 of 2000\n",
      "First 2000 data points all have only expected player units.\n"
     ]
    }
   ],
   "source": [
    "test_size = 2000\n",
    "\n",
    "for data_sample in range(test_size):\n",
    "    if data_sample % 500 == 0:\n",
    "        print(f\"Test {data_sample+1} of {test_size}\")\n",
    "    hyp_img = train_scimage[data_sample][0].numpy()\n",
    "\n",
    "    p1_race = train_scimage[data_sample][2][\"metadata\"][\"player_1_race\"]\n",
    "    p2_race = train_scimage[data_sample][2][\"metadata\"][\"player_2_race\"]\n",
    "\n",
    "    # get mask showing if any pixel has a value for each unit type\n",
    "    present_ixs = np.any(hyp_img > 0, axis=(1, 2))\n",
    "\n",
    "    for i in range(170):\n",
    "        if present_ixs[i]:\n",
    "            assert (p1_race.upper() + \"_\" in NONNEUTRAL_NAME_TO_ID_CORR[i]) or (\n",
    "                \"Unknown\" in NONNEUTRAL_NAME_TO_ID_CORR[i]\n",
    "            ), f\"Unit {NONNEUTRAL_NAME_TO_ID_CORR[i]} not expected for p1 {p1_race}\"\n",
    "\n",
    "    for i in range(170, 340):\n",
    "        if present_ixs[i]:\n",
    "            assert (p2_race.upper() + \"_\" in NONNEUTRAL_NAME_TO_ID_CORR[i - 170]) or (\n",
    "                \"Unknown\" in NONNEUTRAL_NAME_TO_ID_CORR[i]\n",
    "            ), f\"Unit {NONNEUTRAL_NAME_TO_ID_CORR[i-170]} not expected for p2 {p2_race}\"\n",
    "\n",
    "    del hyp_img, present_ixs, p1_race, p2_race\n",
    "\n",
    "print(f\"First {test_size} data points all have only expected player units.\")"
   ]
  },
  {
   "cell_type": "markdown",
   "id": "90e7bbae-503d-4765-8938-dffface769ce",
   "metadata": {},
   "source": [
    "#### 5) Visualize Data (WIP)"
   ]
  },
  {
   "cell_type": "code",
   "execution_count": 17,
   "id": "a8c6ab1c-9dec-4d61-aa72-77931b20f159",
   "metadata": {},
   "outputs": [],
   "source": [
    "def get_map_player_images(\n",
    "    scimage_sample,\n",
    "    unit_correspondence=NONNEUTRAL_NAME_TO_ID_CORR + NEUTRAL_NAME_TO_ID_CORR,\n",
    "):\n",
    "    hyp_img = scimage_sample[0].numpy()\n",
    "\n",
    "    p1_race = scimage_sample[2][\"metadata\"][\"player_1_race\"]\n",
    "    p2_race = scimage_sample[2][\"metadata\"][\"player_2_race\"]\n",
    "\n",
    "    # get mask showing if any pixel has a value for each unit type\n",
    "    present_ixs = np.any(hyp_img > 0, axis=(1, 2))\n",
    "\n",
    "    # for each player, build corresponding categorical image\n",
    "\n",
    "    return"
   ]
  },
  {
   "cell_type": "code",
   "execution_count": null,
   "id": "4dc1be6e-d61b-4b35-a557-1c04cf640419",
   "metadata": {
    "tags": []
   },
   "outputs": [],
   "source": []
  },
  {
   "cell_type": "code",
   "execution_count": null,
   "id": "ae28501c-634a-45cd-bf71-182f1e329164",
   "metadata": {},
   "outputs": [],
   "source": []
  }
 ],
 "metadata": {
  "kernelspec": {
   "display_name": "Python 3 (ipykernel)",
   "language": "python",
   "name": "python3"
  },
  "language_info": {
   "codemirror_mode": {
    "name": "ipython",
    "version": 3
   },
   "file_extension": ".py",
   "mimetype": "text/x-python",
   "name": "python",
   "nbconvert_exporter": "python",
   "pygments_lexer": "ipython3",
   "version": "3.10.11"
  }
 },
 "nbformat": 4,
 "nbformat_minor": 5
}
